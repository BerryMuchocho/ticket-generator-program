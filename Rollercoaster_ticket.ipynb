{
 "cells": [
  {
   "cell_type": "code",
   "execution_count": 4,
   "id": "86ff84d9-7234-4583-9304-5e559405b1a4",
   "metadata": {},
   "outputs": [
    {
     "name": "stdout",
     "output_type": "stream",
     "text": [
      "Welcome to the rollercoaster!\n"
     ]
    },
    {
     "name": "stdin",
     "output_type": "stream",
     "text": [
      "What is your height in cm?  170\n"
     ]
    },
    {
     "name": "stdout",
     "output_type": "stream",
     "text": [
      "You can ride the rollercoaster!\n"
     ]
    },
    {
     "name": "stdin",
     "output_type": "stream",
     "text": [
      "What is your age?  24\n"
     ]
    },
    {
     "name": "stdout",
     "output_type": "stream",
     "text": [
      "Adult tickets are $12.\n"
     ]
    },
    {
     "name": "stdin",
     "output_type": "stream",
     "text": [
      "Do you want a photo taken? Y or N.  Y\n"
     ]
    },
    {
     "name": "stdout",
     "output_type": "stream",
     "text": [
      "Your final bill is $15\n"
     ]
    }
   ],
   "source": [
    "# This code checks if someone can ride the rollercoaster based on height and age, calculates the ticket price, and adds a fee for a photo if wanted. \n",
    "# If they're too short, it tells them they can't ride.\n",
    "\n",
    "print(\"Welcome to the rollercoaster!\")\n",
    "height = int(input(\"What is your height in cm? \"))\n",
    "bill = 0\n",
    "\n",
    "if height >= 120:\n",
    "  print(\"You can ride the rollercoaster!\")\n",
    "  age = int(input(\"What is your age? \"))\n",
    "  if age < 12:\n",
    "    bill = 5\n",
    "    print(\"Child tickets are $5.\")\n",
    "  elif age <= 18:\n",
    "    bill = 7\n",
    "    print(\"Youth tickets are $7.\")\n",
    "  elif age >= 45 and age <= 55:\n",
    "    print(\"Everything is going to be ok. Have a free ride on us!\")\n",
    "  else:\n",
    "    bill = 12\n",
    "    print(\"Adult tickets are $12.\")\n",
    "  \n",
    "  wants_photo = input(\"Do you want a photo taken? Y or N. \")\n",
    "  if wants_photo == \"Y\":\n",
    "    bill += 3\n",
    "  \n",
    "  print(f\"Your final bill is ${bill}\")\n",
    "\n",
    "else:\n",
    "  print(\"Sorry, you have to grow taller before you can ride.\")\n",
    "\n"
   ]
  },
  {
   "cell_type": "code",
   "execution_count": null,
   "id": "8c0a5982-3363-46a7-894e-6bb5d8ddc767",
   "metadata": {},
   "outputs": [],
   "source": []
  }
 ],
 "metadata": {
  "kernelspec": {
   "display_name": "Python 3 (ipykernel)",
   "language": "python",
   "name": "python3"
  },
  "language_info": {
   "codemirror_mode": {
    "name": "ipython",
    "version": 3
   },
   "file_extension": ".py",
   "mimetype": "text/x-python",
   "name": "python",
   "nbconvert_exporter": "python",
   "pygments_lexer": "ipython3",
   "version": "3.12.5"
  }
 },
 "nbformat": 4,
 "nbformat_minor": 5
}
